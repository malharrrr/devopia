{
  "nbformat": 4,
  "nbformat_minor": 0,
  "metadata": {
    "colab": {
      "provenance": [],
      "gpuType": "T4"
    },
    "kernelspec": {
      "name": "python3",
      "display_name": "Python 3"
    },
    "language_info": {
      "name": "python"
    },
    "accelerator": "GPU"
  },
  "cells": [
    {
      "cell_type": "code",
      "execution_count": 16,
      "metadata": {
        "id": "pmr4dNhMY50P"
      },
      "outputs": [],
      "source": [
        "import pyodbc\n",
        "import json\n",
        "import pandas as pd\n",
        "import numpy as np\n",
        "import json\n",
        "\n",
        "import warnings\n",
        "warnings.filterwarnings(\"ignore\")\n",
        "\n",
        "from flask import Flask, request, jsonify\n",
        "import os"
      ]
    },
    {
      "cell_type": "code",
      "source": [
        "import pandas as pd\n",
        "print(pd.__version__)"
      ],
      "metadata": {
        "colab": {
          "base_uri": "https://localhost:8080/"
        },
        "id": "7dDvx906ZjO4",
        "outputId": "0eaf2147-c25d-442c-e36f-419371821056"
      },
      "execution_count": 5,
      "outputs": [
        {
          "output_type": "stream",
          "name": "stdout",
          "text": [
            "2.0.3\n"
          ]
        }
      ]
    },
    {
      "cell_type": "code",
      "source": [
        "from google.colab import drive\n",
        "import json\n",
        "\n",
        "# Mount your Google Drive\n",
        "drive.mount('/content/drive')"
      ],
      "metadata": {
        "colab": {
          "base_uri": "https://localhost:8080/"
        },
        "id": "1c94T2ozZjw_",
        "outputId": "8c0de35c-9017-4a77-9e88-ebf35ca30453"
      },
      "execution_count": 12,
      "outputs": [
        {
          "output_type": "stream",
          "name": "stdout",
          "text": [
            "Drive already mounted at /content/drive; to attempt to forcibly remount, call drive.mount(\"/content/drive\", force_remount=True).\n"
          ]
        }
      ]
    },
    {
      "cell_type": "code",
      "source": [
        "class Make_Output:\n",
        "    def __init__(self, sample_data_file_path, user_id):\n",
        "        self.sample_data_file_path = sample_data_file_path\n",
        "        self.user_id = user_id\n",
        "        self.sample_data = pd.read_json(self.sample_data_file_path)\n",
        "\n",
        "    def output_data(self):\n",
        "        user_data = self.sample_data[self.sample_data['User ID'] == self.user_id]\n",
        "\n",
        "        # Calculate 1M, 3M, and 1Y returns and volatility\n",
        "        for ticker in user_data['Ticker'].unique():\n",
        "            ticker_data = user_data[user_data['Ticker'] == ticker]\n",
        "            ticker_data = ticker_data.sort_values('Trade_Date')\n",
        "\n",
        "            # Calculate returns\n",
        "            close_prices = ticker_data['Close_Price']\n",
        "            returns_1m, returns_3m, returns_1y = self.calculate_returns(close_prices)\n",
        "\n",
        "            # Calculate volatility (using daily returns for the last month)\n",
        "            daily_returns = close_prices.pct_change()\n",
        "            volatility_1m = self.calculate_volatility(daily_returns.tail(30))\n",
        "\n",
        "            # Update the user_data DataFrame\n",
        "            user_data.loc[user_data['Ticker'] == ticker, '1M Returns'] = returns_1m\n",
        "            user_data.loc[user_data['Ticker'] == ticker, '3M Returns'] = returns_3m\n",
        "            user_data.loc[user_data['Ticker'] == ticker, '1Y Returns'] = returns_1y\n",
        "            user_data.loc[user_data['Ticker'] == ticker, '1M Volatility'] = volatility_1m\n",
        "\n",
        "        return user_data\n",
        "\n",
        "    def calculate_returns(self, price_series):\n",
        "        # Assuming price_series is sorted in ascending order by date\n",
        "        returns_1m = price_series.pct_change(periods=30)  # Assuming 30 days in a month\n",
        "        returns_3m = price_series.pct_change(periods=90)  # Assuming 90 days in a quarter\n",
        "        returns_1y = price_series.pct_change(periods=365) # Assuming 365 days in a year\n",
        "\n",
        "        return returns_1m.iloc[-1], returns_3m.iloc[-1], returns_1y.iloc[-1]\n",
        "\n",
        "    def calculate_volatility(self, daily_returns):\n",
        "        volatility = daily_returns.std() * (252 ** 0.5)  # Assuming 252 trading days in a year\n",
        "        return volatility\n",
        "\n",
        "app = Flask(__name__)\n",
        "\n",
        "@app.route('/get_user_data', methods=['GET'])\n",
        "def get_user_data():\n",
        "    user_id = request.args.get('user_id', default=None, type=str)\n",
        "    if not user_id:\n",
        "        return jsonify({\"error\": \"User ID is required\"}), 400\n",
        "\n",
        "    file_path = '/content/drive/My Drive/sample_data.json'\n",
        "    execute = Make_Output(file_path, user_id)\n",
        "    output_df = execute.output_data()\n",
        "\n",
        "    return jsonify(output_df.to_dict(orient='records'))\n",
        "\n",
        "if __name__ == '__main__':\n",
        "    app.run(debug=True)"
      ],
      "metadata": {
        "colab": {
          "base_uri": "https://localhost:8080/"
        },
        "id": "ICvOz7i0ZjqO",
        "outputId": "e6fd6769-1737-4bc6-aabd-9c0ddc37e05b"
      },
      "execution_count": 18,
      "outputs": [
        {
          "output_type": "stream",
          "name": "stdout",
          "text": [
            " * Serving Flask app '__main__'\n",
            " * Debug mode: on\n"
          ]
        },
        {
          "output_type": "stream",
          "name": "stderr",
          "text": [
            "INFO:werkzeug:\u001b[31m\u001b[1mWARNING: This is a development server. Do not use it in a production deployment. Use a production WSGI server instead.\u001b[0m\n",
            " * Running on http://127.0.0.1:5000\n",
            "INFO:werkzeug:\u001b[33mPress CTRL+C to quit\u001b[0m\n",
            "INFO:werkzeug: * Restarting with stat\n"
          ]
        }
      ]
    }
  ]
}